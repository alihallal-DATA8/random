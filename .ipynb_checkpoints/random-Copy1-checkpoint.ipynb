{
 "cells": [
  {
   "cell_type": "code",
   "execution_count": 5,
   "metadata": {},
   "outputs": [],
   "source": [
    "import numpy as np\n",
    "import matplotlib.pyplot as plt\n",
    "\n",
    "won_proba = []\n",
    "lose_proba = []"
   ]
  },
  {
   "cell_type": "code",
   "execution_count": 6,
   "metadata": {},
   "outputs": [],
   "source": [
    "for k in range(20):\n",
    "    \n",
    "    won_times = []\n",
    "    lost_times = []\n",
    "    for j in range(1000):\n",
    "        joker = 1\n",
    "        x = 5\n",
    "        i = 1\n",
    "        w = 0\n",
    "        l = 0\n",
    "        \n",
    "        for i in range(1, k):\n",
    "            \n",
    "            x = x +np.random.choice([-1,0, 1], p = [0.45, 0.1, 0.45])\n",
    "            if x == 0:\n",
    "                w+=1\n",
    "                break\n",
    "            elif( x == 10) & (joker == 0 ):\n",
    "                x = x + np.random.choice([-1,-2,-3])\n",
    "                joker = joker + 1 \n",
    "            \n",
    "            elif x == 10 :\n",
    "                \n",
    "                l += 1\n",
    "                break\n",
    "                \n",
    "        won_times.append(w)\n",
    "        lost_times.append(l)\n",
    "        j = j + 1\n",
    "    \n",
    "    won_proba.append(sum(won_times) / len(won_times))\n",
    "    lose_proba.append(sum(lost_times) / len(lost_times))\n",
    "    k = k +1\n",
    "\n",
    "        "
   ]
  },
  {
   "cell_type": "code",
   "execution_count": 7,
   "metadata": {},
   "outputs": [
    {
     "name": "stdout",
     "output_type": "stream",
     "text": [
      "[0.0, 0.0, 0.0, 0.0, 0.0, 0.0, 0.017, 0.026, 0.056, 0.056]\n",
      "[0.0, 0.0, 0.0, 0.0, 0.0, 0.0, 0.026, 0.022, 0.054, 0.061]\n"
     ]
    }
   ],
   "source": [
    "print(won_proba)\n",
    "print(lose_proba)"
   ]
  },
  {
   "cell_type": "code",
   "execution_count": 9,
   "metadata": {},
   "outputs": [
    {
     "data": {
      "text/plain": [
       "[<matplotlib.lines.Line2D at 0x2267f3814e0>]"
      ]
     },
     "execution_count": 9,
     "metadata": {},
     "output_type": "execute_result"
    },
    {
     "data": {
      "image/png": "[encoded data removed]",
      "text/plain": [
       "<Figure size 432x288 with 1 Axes>"
      ]
     },
     "metadata": {
      "needs_background": "light"
     },
     "output_type": "display_data"
    }
   ],
   "source": [
    "plt.plot(range(10), won_proba)\n",
    "plt.plot(range(10), lose_proba)"
   ]
  },
  {
   "cell_type": "code",
   "execution_count": null,
   "metadata": {},
   "outputs": [],
   "source": []
  }
 ],
 "metadata": {
  "kernelspec": {
   "display_name": "Python 3",
   "language": "python",
   "name": "python3"
  },
  "language_info": {
   "codemirror_mode": {
    "name": "ipython",
    "version": 3
   },
   "file_extension": ".py",
   "mimetype": "text/x-python",
   "name": "python",
   "nbconvert_exporter": "python",
   "pygments_lexer": "ipython3",
   "version": "3.7.4"
  }
 },
 "nbformat": 4,
 "nbformat_minor": 4
}
